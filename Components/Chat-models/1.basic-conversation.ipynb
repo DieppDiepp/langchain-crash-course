{
 "cells": [
  {
   "cell_type": "code",
   "execution_count": 9,
   "id": "67085cab",
   "metadata": {},
   "outputs": [],
   "source": [
    "import getpass\n",
    "import os\n",
    "from dotenv import load_dotenv\n",
    "from langchain.chat_models import init_chat_model\n",
    "from langchain_core.messages import HumanMessage, SystemMessage, AIMessage"
   ]
  },
  {
   "cell_type": "code",
   "execution_count": 2,
   "id": "bf31403f",
   "metadata": {},
   "outputs": [],
   "source": [
    "load_dotenv()\n",
    "if not os.environ.get(\"OPENAI_API_KEY\"):\n",
    "  os.environ[\"OPENAI_API_KEY\"] = getpass.getpass(\"Enter API key for OpenAI: \")"
   ]
  },
  {
   "cell_type": "code",
   "execution_count": 3,
   "id": "a2482839",
   "metadata": {},
   "outputs": [],
   "source": [
    "# Create a ChatOpenAI model\n",
    "model = init_chat_model(\"gpt-4o\", model_provider=\"openai\")"
   ]
  },
  {
   "cell_type": "code",
   "execution_count": 4,
   "id": "aa9ca5ab",
   "metadata": {},
   "outputs": [],
   "source": [
    "messages = [\n",
    "    SystemMessage(\"Dịch câu sau qua tiếng anh\"),\n",
    "    HumanMessage(\"Hãy vui lên vì cuộc đời yêu dấu!\"),\n",
    "]\n",
    "\n",
    "res = model.invoke(messages)"
   ]
  },
  {
   "cell_type": "code",
   "execution_count": 7,
   "id": "4e5ea532",
   "metadata": {},
   "outputs": [
    {
     "name": "stdout",
     "output_type": "stream",
     "text": [
      "<class 'list'>\n"
     ]
    }
   ],
   "source": [
    "print(type(messages))"
   ]
  },
  {
   "cell_type": "code",
   "execution_count": 5,
   "id": "8ae3ad0b",
   "metadata": {},
   "outputs": [
    {
     "name": "stdout",
     "output_type": "stream",
     "text": [
      "Cheer up because life is dear!\n"
     ]
    }
   ],
   "source": [
    "print(res.content)"
   ]
  },
  {
   "cell_type": "markdown",
   "id": "84b5411a",
   "metadata": {},
   "source": [
    "# -------------"
   ]
  },
  {
   "cell_type": "code",
   "execution_count": 10,
   "id": "9432fb36",
   "metadata": {},
   "outputs": [],
   "source": [
    "messages = [\n",
    "    SystemMessage(\"Dịch câu sau qua tiếng anh\"),\n",
    "    HumanMessage(\"Hãy vui lên vì cuộc đời yêu dấu!\"),\n",
    "    AIMessage(\"Cheer up because life is dear!\"),\n",
    "    HumanMessage(\"Làm nó dài hơn và chèn thêm icon\")\n",
    "]\n",
    "\n",
    "res = model.invoke(messages)"
   ]
  },
  {
   "cell_type": "code",
   "execution_count": 11,
   "id": "f153a217",
   "metadata": {},
   "outputs": [
    {
     "name": "stdout",
     "output_type": "stream",
     "text": [
      "🌟 Hãy vui lên và tận hưởng cuộc đời đầy yêu thương này! Cuộc hành trình này có thể có những lúc khó khăn, nhưng hãy luôn nhớ rằng bạn không cô đơn và luôn có những điều tuyệt vời đang chờ đợi bạn phía trước. ✨❤️\n"
     ]
    }
   ],
   "source": [
    "print(res.content)"
   ]
  }
 ],
 "metadata": {
  "kernelspec": {
   "display_name": "venv",
   "language": "python",
   "name": "python3"
  },
  "language_info": {
   "codemirror_mode": {
    "name": "ipython",
    "version": 3
   },
   "file_extension": ".py",
   "mimetype": "text/x-python",
   "name": "python",
   "nbconvert_exporter": "python",
   "pygments_lexer": "ipython3",
   "version": "3.11.4"
  }
 },
 "nbformat": 4,
 "nbformat_minor": 5
}

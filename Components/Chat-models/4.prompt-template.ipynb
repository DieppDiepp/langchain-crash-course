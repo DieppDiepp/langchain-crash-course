{
 "cells": [
  {
   "cell_type": "code",
   "execution_count": 2,
   "id": "278cfab0",
   "metadata": {},
   "outputs": [
    {
     "data": {
      "text/plain": [
       "True"
      ]
     },
     "execution_count": 2,
     "metadata": {},
     "output_type": "execute_result"
    }
   ],
   "source": [
    "import getpass\n",
    "import os\n",
    "from dotenv import load_dotenv\n",
    "from langchain.chat_models import init_chat_model\n",
    "from langchain_core.messages import HumanMessage, SystemMessage, AIMessage\n",
    "from langchain_together import ChatTogether\n",
    "\n",
    "from langchain_core.prompts import ChatPromptTemplate\n",
    "\n",
    "load_dotenv()"
   ]
  },
  {
   "cell_type": "code",
   "execution_count": 3,
   "id": "d200571b",
   "metadata": {},
   "outputs": [],
   "source": [
    "llm = ChatTogether(\n",
    "    model=\"meta-llama/Llama-3.3-70B-Instruct-Turbo-Free\",\n",
    "    temperature=0,\n",
    "    max_tokens=None,\n",
    "    timeout=None,\n",
    "    max_retries=2,\n",
    "    # other params...\n",
    ")"
   ]
  },
  {
   "cell_type": "markdown",
   "id": "a5b0d605",
   "metadata": {},
   "source": [
    "## Template with place holder"
   ]
  },
  {
   "cell_type": "markdown",
   "id": "457a0bb8",
   "metadata": {},
   "source": [
    "> Why we need template, while we already have messages (HumanMessage, SystemMessage, AIMessage)"
   ]
  },
  {
   "cell_type": "markdown",
   "id": "144457b8",
   "metadata": {},
   "source": [
    "Since messages do not provide `Place Holder`, like the belove example the `Place Holder` is `\"{user_input}\"`"
   ]
  },
  {
   "cell_type": "code",
   "execution_count": null,
   "id": "0d5302dc",
   "metadata": {},
   "outputs": [
    {
     "name": "stdout",
     "output_type": "stream",
     "text": [
      "<class 'langchain_core.prompts.chat.ChatPromptTemplate'>\n",
      "<class 'langchain_core.prompts.chat.ChatPromptTemplate'>\n"
     ]
    }
   ],
   "source": [
    "template_v2 = ChatPromptTemplate.from_messages([\n",
    "    (\"system\", \"You are a helpful AI bot. Your name is Carl.\"),\n",
    "    (\"human\", \"{user_input}\"),\n",
    "]) # Langchain v2\n",
    "\n",
    "template_v3 = ChatPromptTemplate([\n",
    "    (\"system\", \"You are a helpful AI bot. Your name is Carl.\"),\n",
    "    (\"human\", \"{user_input} {mark}\"),\n",
    "]) # Langchain v3\n",
    "\n",
    "print(type(template_v2))\n",
    "print(type(template_v3))"
   ]
  },
  {
   "cell_type": "markdown",
   "id": "2042483f",
   "metadata": {},
   "source": [
    "## LLM with templates"
   ]
  },
  {
   "cell_type": "code",
   "execution_count": 27,
   "id": "cd654693",
   "metadata": {},
   "outputs": [],
   "source": [
    "Prompt_Value = template_v3.invoke(\n",
    "    {\n",
    "        \"user_input\": \"What is logarit\", \n",
    "        \"mark\":\"?\"\n",
    "    }\n",
    ")"
   ]
  },
  {
   "cell_type": "code",
   "execution_count": 28,
   "id": "ab34363c",
   "metadata": {},
   "outputs": [],
   "source": [
    "res = llm.invoke(Prompt_Value)"
   ]
  },
  {
   "cell_type": "markdown",
   "id": "526f9f66",
   "metadata": {},
   "source": [
    ">Actualy we can simply scripts by \n",
    "\n",
    "```python\n",
    "res = llm.invoke(template_v3.invoke({\"user_input\": \"What is logarit\", \"mark\":\"?\"})\n",
    "```\n",
    "\n",
    ">You might see that, this flow look like nesting code, but it's prety complicated syntax. We will use chain to replace them"
   ]
  },
  {
   "cell_type": "code",
   "execution_count": 29,
   "id": "1bab61b9",
   "metadata": {},
   "outputs": [
    {
     "name": "stdout",
     "output_type": "stream",
     "text": [
      "Hello, I'm Carl. A logarithm, often abbreviated as \"log,\" is the inverse operation of exponentiation. It's a mathematical function that helps us find the power to which a base number must be raised to obtain a given value.\n",
      "\n",
      "In simpler terms, if we have an equation like 2^x = 8, the logarithm (log) would help us find the value of x. In this case, log2(8) = 3, because 2^3 = 8.\n",
      "\n",
      "Logarithms have many real-world applications, such as:\n",
      "\n",
      "1. **Simplifying complex calculations**: Logarithms can help reduce the complexity of calculations involving large numbers or exponential functions.\n",
      "2. **Measuring sound levels**: Decibels, a unit of measurement for sound levels, are based on logarithmic scales.\n",
      "3. **Finance**: Logarithms are used in finance to calculate returns on investments, interest rates, and stock prices.\n",
      "4. **Science**: Logarithms are used in various scientific fields, such as physics, chemistry, and biology, to model population growth, chemical reactions, and other phenomena.\n",
      "\n",
      "There are different types of logarithms, including:\n",
      "\n",
      "1. **Natural logarithm (ln)**: uses the base e (approximately 2.718)\n",
      "2. **Common logarithm (log)**: uses the base 10\n",
      "3. **Binary logarithm (log2)**: uses the base 2\n",
      "\n",
      "Logarithms have many useful properties, such as:\n",
      "\n",
      "1. **Logarithmic addition**: log(a) + log(b) = log(ab)\n",
      "2. **Logarithmic multiplication**: log(a) - log(b) = log(a/b)\n",
      "\n",
      "I hope this helps you understand what logarithms are and how they're used! Do you have any specific questions or topics you'd like me to expand on?\n"
     ]
    }
   ],
   "source": [
    "print(res.content)"
   ]
  },
  {
   "cell_type": "code",
   "execution_count": null,
   "id": "67d8c15f",
   "metadata": {},
   "outputs": [],
   "source": []
  }
 ],
 "metadata": {
  "kernelspec": {
   "display_name": "venv",
   "language": "python",
   "name": "python3"
  },
  "language_info": {
   "codemirror_mode": {
    "name": "ipython",
    "version": 3
   },
   "file_extension": ".py",
   "mimetype": "text/x-python",
   "name": "python",
   "nbconvert_exporter": "python",
   "pygments_lexer": "ipython3",
   "version": "3.11.4"
  }
 },
 "nbformat": 4,
 "nbformat_minor": 5
}

{
 "cells": [
  {
   "cell_type": "code",
   "execution_count": 2,
   "id": "a813b78e",
   "metadata": {},
   "outputs": [],
   "source": [
    "import getpass\n",
    "import os\n",
    "from dotenv import load_dotenv\n",
    "from langchain.chat_models import init_chat_model"
   ]
  },
  {
   "cell_type": "code",
   "execution_count": 3,
   "id": "ceed9c20",
   "metadata": {},
   "outputs": [],
   "source": [
    "load_dotenv()\n",
    "if not os.environ.get(\"OPENAI_API_KEY\"):\n",
    "  os.environ[\"OPENAI_API_KEY\"] = getpass.getpass(\"Enter API key for OpenAI: \")"
   ]
  },
  {
   "cell_type": "code",
   "execution_count": 4,
   "id": "cee08181",
   "metadata": {},
   "outputs": [],
   "source": [
    "# Create a ChatOpenAI model\n",
    "model = init_chat_model(\"gpt-4o\", model_provider=\"openai\")"
   ]
  },
  {
   "cell_type": "code",
   "execution_count": 8,
   "id": "e1d6b681",
   "metadata": {},
   "outputs": [
    {
     "name": "stdout",
     "output_type": "stream",
     "text": [
      "<class 'langchain_openai.chat_models.base.ChatOpenAI'>\n"
     ]
    }
   ],
   "source": [
    "print(type(model))"
   ]
  },
  {
   "cell_type": "code",
   "execution_count": 5,
   "id": "e95917ef",
   "metadata": {},
   "outputs": [],
   "source": [
    "res = model.invoke(\"Nói ngắn gọn về cách để invoke langchain?\")"
   ]
  },
  {
   "cell_type": "code",
   "execution_count": 7,
   "id": "79ff04fc",
   "metadata": {},
   "outputs": [
    {
     "name": "stdout",
     "output_type": "stream",
     "text": [
      "content='Để invoke Langchain, bạn cần thực hiện các bước cơ bản sau:\\n\\n1. **Cài đặt môi trường**: Đảm bảo rằng Python đã được cài đặt trên hệ thống của bạn. Cài đặt Langchain qua pip nếu bạn sử dụng Python: `pip install langchain`.\\n\\n2. **Khởi tạo Langchain**: Import và khởi tạo các thành phần cần thiết từ thư viện Langchain. Ví dụ, bạn có thể cần tạo một object để xử lý chuỗi hoặc tích hợp với mô hình ngôn ngữ.\\n\\n3. **Cấu hình mô hình ngôn ngữ**: Bạn cần cấu hình mô hình ngôn ngữ bạn muốn sử dụng, chẳng hạn như GPT-3 hay một mô hình khác. Điều này có thể bao gồm việc cài đặt API key và các thông số khác.\\n\\n4. **Thực thi chức năng mong muốn**: Dùng các method của Langchain để thực hiện các chức năng cụ thể như tạo văn bản, trả lời câu hỏi, phân tích ngữ nghĩa, v.v.\\n\\n5. **Xử lý kết quả**: Lấy đầu ra từ phương thức đã sử dụng và xử lý nó theo nhu cầu của bạn (hiển thị, lưu trữ, phân tích thêm, v.v.).\\n\\nĐảm bảo tham khảo tài liệu chính thức của Langchain để có hướng dẫn chi tiết hơn và các ví dụ cụ thể phù hợp với từng phiên bản bạn sử dụng.' additional_kwargs={'refusal': None} response_metadata={'token_usage': {'completion_tokens': 299, 'prompt_tokens': 20, 'total_tokens': 319, 'completion_tokens_details': {'accepted_prediction_tokens': 0, 'audio_tokens': 0, 'reasoning_tokens': 0, 'rejected_prediction_tokens': 0}, 'prompt_tokens_details': {'audio_tokens': 0, 'cached_tokens': 0}}, 'model_name': 'gpt-4o-2024-08-06', 'system_fingerprint': 'fp_d8864f8b6b', 'id': 'chatcmpl-BUaCZtyKQCNTnsXv66jGtobzLY4ut', 'service_tier': 'default', 'finish_reason': 'stop', 'logprobs': None} id='run--d7753cef-b825-4bbb-ba60-461eb8041cf2-0' usage_metadata={'input_tokens': 20, 'output_tokens': 299, 'total_tokens': 319, 'input_token_details': {'audio': 0, 'cache_read': 0}, 'output_token_details': {'audio': 0, 'reasoning': 0}}\n"
     ]
    }
   ],
   "source": [
    "print(res)"
   ]
  },
  {
   "cell_type": "code",
   "execution_count": 6,
   "id": "f2953d3f",
   "metadata": {},
   "outputs": [
    {
     "name": "stdout",
     "output_type": "stream",
     "text": [
      "Để invoke Langchain, bạn cần thực hiện các bước cơ bản sau:\n",
      "\n",
      "1. **Cài đặt môi trường**: Đảm bảo rằng Python đã được cài đặt trên hệ thống của bạn. Cài đặt Langchain qua pip nếu bạn sử dụng Python: `pip install langchain`.\n",
      "\n",
      "2. **Khởi tạo Langchain**: Import và khởi tạo các thành phần cần thiết từ thư viện Langchain. Ví dụ, bạn có thể cần tạo một object để xử lý chuỗi hoặc tích hợp với mô hình ngôn ngữ.\n",
      "\n",
      "3. **Cấu hình mô hình ngôn ngữ**: Bạn cần cấu hình mô hình ngôn ngữ bạn muốn sử dụng, chẳng hạn như GPT-3 hay một mô hình khác. Điều này có thể bao gồm việc cài đặt API key và các thông số khác.\n",
      "\n",
      "4. **Thực thi chức năng mong muốn**: Dùng các method của Langchain để thực hiện các chức năng cụ thể như tạo văn bản, trả lời câu hỏi, phân tích ngữ nghĩa, v.v.\n",
      "\n",
      "5. **Xử lý kết quả**: Lấy đầu ra từ phương thức đã sử dụng và xử lý nó theo nhu cầu của bạn (hiển thị, lưu trữ, phân tích thêm, v.v.).\n",
      "\n",
      "Đảm bảo tham khảo tài liệu chính thức của Langchain để có hướng dẫn chi tiết hơn và các ví dụ cụ thể phù hợp với từng phiên bản bạn sử dụng.\n"
     ]
    }
   ],
   "source": [
    "print(res.content)"
   ]
  },
  {
   "cell_type": "code",
   "execution_count": null,
   "id": "741a9910",
   "metadata": {},
   "outputs": [],
   "source": []
  }
 ],
 "metadata": {
  "kernelspec": {
   "display_name": "venv",
   "language": "python",
   "name": "python3"
  },
  "language_info": {
   "codemirror_mode": {
    "name": "ipython",
    "version": 3
   },
   "file_extension": ".py",
   "mimetype": "text/x-python",
   "name": "python",
   "nbconvert_exporter": "python",
   "pygments_lexer": "ipython3",
   "version": "3.11.4"
  }
 },
 "nbformat": 4,
 "nbformat_minor": 5
}
